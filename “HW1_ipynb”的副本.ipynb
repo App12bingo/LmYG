{
  "nbformat": 4,
  "nbformat_minor": 0,
  "metadata": {
    "colab": {
      "name": "“HW1.ipynb”的副本",
      "provenance": [],
      "collapsed_sections": [],
      "include_colab_link": true
    },
    "kernelspec": {
      "name": "ir",
      "display_name": "R"
    }
  },
  "cells": [
    {
      "cell_type": "markdown",
      "metadata": {
        "id": "view-in-github",
        "colab_type": "text"
      },
      "source": [
        "<a href=\"https://colab.research.google.com/github/App12bingo/LmYG/blob/main/%E2%80%9CHW1_ipynb%E2%80%9D%E7%9A%84%E5%89%AF%E6%9C%AC.ipynb\" target=\"_parent\"><img src=\"https://colab.research.google.com/assets/colab-badge.svg\" alt=\"Open In Colab\"/></a>"
      ]
    },
    {
      "cell_type": "markdown",
      "metadata": {
        "id": "wVpB3_uNsIdv"
      },
      "source": [
        "## Homework1 \n",
        "\n",
        "by Name\n",
        "\n"
      ]
    },
    {
      "cell_type": "markdown",
      "metadata": {
        "id": "aRGFyEM_sRAG"
      },
      "source": [
        "loading tidyverse package"
      ]
    },
    {
      "cell_type": "code",
      "metadata": {
        "colab": {
          "base_uri": "https://localhost:8080/"
        },
        "id": "Fd8azTo8H-qI",
        "outputId": "343f0d15-225d-41aa-d443-0e3932de3319"
      },
      "source": [
        "library(tidyverse)"
      ],
      "execution_count": null,
      "outputs": [
        {
          "output_type": "stream",
          "text": [
            "Warning message in system(\"timedatectl\", intern = TRUE):\n",
            "“running command 'timedatectl' had status 1”\n",
            "── \u001b[1mAttaching packages\u001b[22m ─────────────────────────────────────── tidyverse 1.3.0 ──\n",
            "\n",
            "\u001b[32m✔\u001b[39m \u001b[34mggplot2\u001b[39m 3.3.3     \u001b[32m✔\u001b[39m \u001b[34mpurrr  \u001b[39m 0.3.4\n",
            "\u001b[32m✔\u001b[39m \u001b[34mtibble \u001b[39m 3.1.0     \u001b[32m✔\u001b[39m \u001b[34mdplyr  \u001b[39m 1.0.4\n",
            "\u001b[32m✔\u001b[39m \u001b[34mtidyr  \u001b[39m 1.1.3     \u001b[32m✔\u001b[39m \u001b[34mstringr\u001b[39m 1.4.0\n",
            "\u001b[32m✔\u001b[39m \u001b[34mreadr  \u001b[39m 1.4.0     \u001b[32m✔\u001b[39m \u001b[34mforcats\u001b[39m 0.5.1\n",
            "\n",
            "── \u001b[1mConflicts\u001b[22m ────────────────────────────────────────── tidyverse_conflicts() ──\n",
            "\u001b[31m✖\u001b[39m \u001b[34mdplyr\u001b[39m::\u001b[32mfilter()\u001b[39m masks \u001b[34mstats\u001b[39m::filter()\n",
            "\u001b[31m✖\u001b[39m \u001b[34mdplyr\u001b[39m::\u001b[32mlag()\u001b[39m    masks \u001b[34mstats\u001b[39m::lag()\n",
            "\n"
          ],
          "name": "stderr"
        }
      ]
    },
    {
      "cell_type": "markdown",
      "metadata": {
        "id": "33yhaNVCsPxH"
      },
      "source": [
        "Install nycflights library"
      ]
    },
    {
      "cell_type": "code",
      "metadata": {
        "colab": {
          "base_uri": "https://localhost:8080/"
        },
        "id": "ow_RIRgBr4P9",
        "outputId": "4c706764-efae-4d43-bf6f-b6e2eba5b0d6"
      },
      "source": [
        "install.packages(\"nycflights13\")"
      ],
      "execution_count": null,
      "outputs": [
        {
          "output_type": "stream",
          "text": [
            "Installing package into ‘/usr/local/lib/R/site-library’\n",
            "(as ‘lib’ is unspecified)\n",
            "\n"
          ],
          "name": "stderr"
        }
      ]
    },
    {
      "cell_type": "markdown",
      "metadata": {
        "id": "yOfLFTD-sYBg"
      },
      "source": [
        "loading nycflights data"
      ]
    },
    {
      "cell_type": "code",
      "metadata": {
        "id": "qhDxvxwcr73i"
      },
      "source": [
        "library(nycflights13)\n"
      ],
      "execution_count": null,
      "outputs": []
    },
    {
      "cell_type": "markdown",
      "metadata": {
        "id": "Q1URjHShsycC"
      },
      "source": [
        "## Add some coding practice using dplyr"
      ]
    },
    {
      "cell_type": "markdown",
      "metadata": {
        "id": "Awn2wTngs4Tf"
      },
      "source": [
        "## visualize using ggplot"
      ]
    },
    {
      "cell_type": "code",
      "metadata": {
        "id": "vAJe8Uz7sdFt",
        "colab": {
          "base_uri": "https://localhost:8080/",
          "height": 96
        },
        "outputId": "e8a3b476-3a7f-49b2-cdcd-c0e7905e5bd9"
      },
      "source": [
        "cars%>% summary()\n"
      ],
      "execution_count": 1,
      "outputs": [
        {
          "output_type": "error",
          "ename": "ERROR",
          "evalue": "ignored",
          "traceback": [
            "Error in cars %>% summary(): could not find function \"%>%\"\nTraceback:\n"
          ]
        }
      ]
    },
    {
      "cell_type": "code",
      "metadata": {
        "colab": {
          "base_uri": "https://localhost:8080/",
          "height": 437
        },
        "id": "xL8-twj7VO-P",
        "outputId": "f4e0466a-ab8a-4547-9e1e-d7716c103f5f"
      },
      "source": [
        "plot(cars)"
      ],
      "execution_count": 2,
      "outputs": [
        {
          "output_type": "display_data",
          "data": {
            "image/png": "[encoded data removed]",
            "text/plain": [
              "plot without title"
            ]
          },
          "metadata": {
            "tags": [],
            "image/png": {
              "width": 420,
              "height": 420
            }
          }
        }
      ]
    },
    {
      "cell_type": "code",
      "metadata": {
        "colab": {
          "base_uri": "https://localhost:8080/",
          "height": 96
        },
        "id": "lWmubsqJVYhY",
        "outputId": "fbc0efd3-4335-4881-cb82-bd8a9bcb1611"
      },
      "source": [
        "cars%>%plot()"
      ],
      "execution_count": 3,
      "outputs": [
        {
          "output_type": "error",
          "ename": "ERROR",
          "evalue": "ignored",
          "traceback": [
            "Error in cars %>% plot(): could not find function \"%>%\"\nTraceback:\n"
          ]
        }
      ]
    },
    {
      "cell_type": "code",
      "metadata": {
        "colab": {
          "base_uri": "https://localhost:8080/"
        },
        "id": "LnZ0QaRuVmSL",
        "outputId": "c6797db7-d7d2-4f55-cc20-e89e15198ff2"
      },
      "source": [
        "install.packages(\"nycflights13\")"
      ],
      "execution_count": 4,
      "outputs": [
        {
          "output_type": "stream",
          "text": [
            "Installing package into ‘/usr/local/lib/R/site-library’\n",
            "(as ‘lib’ is unspecified)\n",
            "\n"
          ],
          "name": "stderr"
        }
      ]
    },
    {
      "cell_type": "code",
      "metadata": {
        "id": "BFEkFXhDVue4"
      },
      "source": [
        "library(nycflights13)\n"
      ],
      "execution_count": null,
      "outputs": []
    },
    {
      "cell_type": "code",
      "metadata": {
        "id": "y803a_aOWN16"
      },
      "source": [
        "flights[1:5,]"
      ],
      "execution_count": null,
      "outputs": []
    },
    {
      "cell_type": "code",
      "metadata": {
        "id": "f6x4Tc1lWSIS"
      },
      "source": [
        "?flights"
      ],
      "execution_count": null,
      "outputs": []
    },
    {
      "cell_type": "code",
      "metadata": {
        "id": "dQmE3e9GWUr3"
      },
      "source": [
        "filter(flights, month == 1, day == 1) %>% head()"
      ],
      "execution_count": null,
      "outputs": []
    },
    {
      "cell_type": "code",
      "metadata": {
        "id": "HwCpxhoLWX6G"
      },
      "source": [
        "flights %>% filter(month == 1, day == 1) %>% filter(dest == 'ORD') %>% head()"
      ],
      "execution_count": null,
      "outputs": []
    },
    {
      "cell_type": "code",
      "metadata": {
        "id": "7GgPv7OTWa3s"
      },
      "source": [
        "flights %>% filter(month == 1 & day == 1 & dest == 'ORD') %>% head()"
      ],
      "execution_count": null,
      "outputs": []
    },
    {
      "cell_type": "code",
      "metadata": {
        "id": "qfoWprSyWeGS"
      },
      "source": [
        "flights %>% filter(month == 1 & day == 1 & dest %in% c('ORD','LAS')) %>% head()\n"
      ],
      "execution_count": null,
      "outputs": []
    },
    {
      "cell_type": "code",
      "metadata": {
        "id": "u8GmdApmWh4S"
      },
      "source": [
        "arrange(flights, year, month, day) %>% head()"
      ],
      "execution_count": null,
      "outputs": []
    },
    {
      "cell_type": "code",
      "metadata": {
        "id": "IkmZz2OmWlS3"
      },
      "source": [
        "arrange(flights, desc(dep_delay)) %>% head()"
      ],
      "execution_count": null,
      "outputs": []
    },
    {
      "cell_type": "code",
      "metadata": {
        "id": "n4MAxg3gWom_"
      },
      "source": [
        "arrange(flights, desc(dep_delay)) %>% head()"
      ],
      "execution_count": null,
      "outputs": []
    },
    {
      "cell_type": "code",
      "metadata": {
        "id": "j1Xi4vN8W4L6"
      },
      "source": [
        "select(flights, year:day) %>% head()"
      ],
      "execution_count": null,
      "outputs": []
    },
    {
      "cell_type": "code",
      "metadata": {
        "id": "UsIbqWEVW7K4"
      },
      "source": [
        "select(flights, -(year:day)) %>% head()"
      ],
      "execution_count": null,
      "outputs": []
    },
    {
      "cell_type": "code",
      "metadata": {
        "id": "B60mg5vVW-4Y"
      },
      "source": [
        "select(flights, starts_with(\"arr\")) %>% head()"
      ],
      "execution_count": null,
      "outputs": []
    },
    {
      "cell_type": "code",
      "metadata": {
        "id": "wlVz5jFoXBut"
      },
      "source": [
        "select(flights, contains(\"arr\")) %>% head()"
      ],
      "execution_count": null,
      "outputs": []
    },
    {
      "cell_type": "code",
      "metadata": {
        "id": "hjphMEz7XEju"
      },
      "source": [
        "rename(flights, tail_num = tailnum) %>% head"
      ],
      "execution_count": null,
      "outputs": []
    },
    {
      "cell_type": "code",
      "metadata": {
        "id": "0db62FY-XH8s"
      },
      "source": [
        "select(flights, time_hour, air_time, everything()) %>% head()"
      ],
      "execution_count": null,
      "outputs": []
    },
    {
      "cell_type": "code",
      "metadata": {
        "id": "iAQmAAKTXLia"
      },
      "source": [
        "flights %>% select(year:day, ends_with(\"delay\"), distance, air_time) %>% head() "
      ],
      "execution_count": null,
      "outputs": []
    },
    {
      "cell_type": "code",
      "metadata": {
        "id": "pWhsJRM0XPoe"
      },
      "source": [
        "flights %>% \n",
        "    select(year:day, ends_with(\"delay\"), distance, air_time) %>% \n",
        "    mutate(gain = dep_delay - arr_delay,\n",
        "              hours = air_time / 60,\n",
        "              gain_per_hour = gain / hours) %>% head()"
      ],
      "execution_count": null,
      "outputs": []
    },
    {
      "cell_type": "code",
      "metadata": {
        "id": "l47rZMqbXTOB"
      },
      "source": [
        "flights %>% group_by(year, month, day) %>% \n",
        "summarise(delay = mean(dep_delay, na.rm = TRUE)) %>% head()"
      ],
      "execution_count": null,
      "outputs": []
    },
    {
      "cell_type": "code",
      "metadata": {
        "id": "FsLLYLhuXV0p"
      },
      "source": [
        "flights %>% group_by(origin) %>% \n",
        "summarise(delay = mean(dep_delay, na.rm = TRUE), sd_delay = sd(dep_delay, na.rm = TRUE)) %>% head()"
      ],
      "execution_count": null,
      "outputs": []
    },
    {
      "cell_type": "code",
      "metadata": {
        "id": "_fC462ldXYus"
      },
      "source": [
        "flights %>% group_by(dest) %>% \n",
        "   summarise(count = n(), dist = mean(distance, na.rm = TRUE), delay = mean(arr_delay, na.rm = TRUE) ) %>%\n",
        "   filter(count > 20, dest != \"HNL\") %>% head()\n"
      ],
      "execution_count": null,
      "outputs": []
    },
    {
      "cell_type": "code",
      "metadata": {
        "id": "Cp_MOg0AXdci"
      },
      "source": [
        "flights %>% group_by(dest) %>% \n",
        "   summarise(count = n(), dist = mean(distance, na.rm = TRUE), delay = mean(arr_delay, na.rm = TRUE) ) %>%\n",
        "   filter(count > 20, dest != \"HNL\") %>% \n",
        "ggplot(mapping = aes(x = dist, y = delay)) +\n",
        "  geom_point(aes(size = count), alpha = 1/3) +\n",
        "  geom_smooth(se = FALSE)"
      ],
      "execution_count": null,
      "outputs": []
    },
    {
      "cell_type": "code",
      "metadata": {
        "id": "Xe7DQ2mpXgVQ"
      },
      "source": [
        "ggplot(data = mpg) + \n",
        "  geom_point(mapping = aes(x = displ, y = hwy))"
      ],
      "execution_count": null,
      "outputs": []
    },
    {
      "cell_type": "code",
      "metadata": {
        "id": "SbzZjQiyXkUm"
      },
      "source": [
        "ggplot(data = mpg, mapping = aes(x = displ, y = hwy)) + \n",
        "  geom_point()"
      ],
      "execution_count": null,
      "outputs": []
    },
    {
      "cell_type": "code",
      "metadata": {
        "id": "bByFGvo8XnJl"
      },
      "source": [
        "ggplot(data = mpg, mapping = aes(x = displ, y = hwy)) + \n",
        "  geom_point() + \n",
        "  geom_line()"
      ],
      "execution_count": null,
      "outputs": []
    },
    {
      "cell_type": "code",
      "metadata": {
        "id": "Uz42AFg7Xpwx"
      },
      "source": [
        "ggplot(data = mpg, mapping = aes(x = displ, y = hwy)) + \n",
        "  geom_point() + \n",
        "  geom_line() + theme_bw()"
      ],
      "execution_count": null,
      "outputs": []
    },
    {
      "cell_type": "code",
      "metadata": {
        "id": "8IUSKuQ1Xszw"
      },
      "source": [
        "ggplot(data = mpg, mapping = aes(x = displ, y = hwy, color = class)) + geom_point()"
      ],
      "execution_count": null,
      "outputs": []
    },
    {
      "cell_type": "code",
      "metadata": {
        "id": "xq6QToJZXvYx"
      },
      "source": [
        "ggplot(data = mpg, mapping = aes(x = displ, y = hwy, size = class)) + geom_point()"
      ],
      "execution_count": null,
      "outputs": []
    },
    {
      "cell_type": "code",
      "metadata": {
        "id": "9d0q0x0bXzuH"
      },
      "source": [
        "ggplot(data = mpg, mapping = aes(x = displ, y = hwy, alpha = class)) + geom_point()"
      ],
      "execution_count": null,
      "outputs": []
    },
    {
      "cell_type": "code",
      "metadata": {
        "id": "wdm7hDiAX23G"
      },
      "source": [
        "ggplot(data = mpg, mapping = aes(x = displ, y = hwy, shape = class)) + geom_point()"
      ],
      "execution_count": null,
      "outputs": []
    },
    {
      "cell_type": "code",
      "metadata": {
        "id": "UYxG9ZTNX6is"
      },
      "source": [
        "ggplot(data = mpg) + \n",
        "  geom_point(mapping = aes(x = displ, y = hwy)) + \n",
        "  facet_wrap(~ class, nrow = 2)"
      ],
      "execution_count": null,
      "outputs": []
    },
    {
      "cell_type": "code",
      "metadata": {
        "id": "B1K9iTBaX812"
      },
      "source": [
        "ggplot(data = mpg) + \n",
        "  geom_point(mapping = aes(x = displ, y = hwy)) + \n",
        "  facet_grid(drv ~ cyl)"
      ],
      "execution_count": null,
      "outputs": []
    },
    {
      "cell_type": "code",
      "metadata": {
        "id": "RQQ-K021YAhc"
      },
      "source": [
        "ggplot(data = mpg) + \n",
        "  geom_point(mapping = aes(x = displ, y = hwy)) + theme_bw() +\n",
        "  theme(axis.line= element_line(size=.8, colour = \"black\"),\n",
        "        panel.grid.minor = element_blank(),\n",
        "        panel.border = element_blank(),\n",
        "        text = element_text(size = 25))"
      ],
      "execution_count": null,
      "outputs": []
    },
    {
      "cell_type": "code",
      "metadata": {
        "id": "Onb2ctrQYDvX"
      },
      "source": [
        "ggplot(data = mpg) + theme_bw() +\n",
        "  geom_point(mapping = aes(x = displ, y = hwy)) + \n",
        "  facet_grid(drv ~ cyl)  +\n",
        "  theme(axis.line= element_line(size=.8, colour = \"black\"),\n",
        "        panel.grid.minor = element_blank(),\n",
        "        text = element_text(size = 25))"
      ],
      "execution_count": null,
      "outputs": []
    },
    {
      "cell_type": "code",
      "metadata": {
        "id": "8UQ9FSiWYHm8"
      },
      "source": [
        ""
      ],
      "execution_count": null,
      "outputs": []
    }
  ]
}