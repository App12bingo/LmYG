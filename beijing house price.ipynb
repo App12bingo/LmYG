{
  "nbformat": 4,
  "nbformat_minor": 0,
  "metadata": {
    "colab": {
      "name": "Untitled6.ipynb",
      "provenance": [],
      "authorship_tag": "ABX9TyNoT1dGNKI2lmbucntAfExr",
      "include_colab_link": true
    },
    "kernelspec": {
      "name": "python3",
      "display_name": "Python 3"
    },
    "language_info": {
      "name": "python"
    }
  },
  "cells": [
    {
      "cell_type": "markdown",
      "metadata": {
        "id": "view-in-github",
        "colab_type": "text"
      },
      "source": [
        "<a href=\"https://colab.research.google.com/github/App12bingo/LmYG/blob/main/beijing%20house%20price.ipynb\" target=\"_parent\"><img src=\"https://colab.research.google.com/assets/colab-badge.svg\" alt=\"Open In Colab\"/></a>"
      ]
    },
    {
      "cell_type": "code",
      "metadata": {
        "colab": {
          "base_uri": "https://localhost:8080/",
          "height": 232
        },
        "id": "CRVaTt0RR1vV",
        "outputId": "a8675d19-35be-4466-e677-676e7c073743"
      },
      "source": [
        "\n",
        "\n",
        "# Elevator ##Characteristics\n",
        "miss_value = len(df.loc[(df['Elevator'].isnull()), 'Elevator'])\n",
        "print('Elevator##The number of missing values：' + str(miss_value))\n",
        "\n",
        "# Remove possible incorrect values in the table\n",
        "df['Elevator'] = df.loc[(df['Elevator']=='yes') | (df['Elevator']=='no'), 'Elevator']\n",
        "\n",
        "# Take the floors greater than 6 with elevators and less than or equal to 6 floors without elevators as the standard, fill in the missing values\n",
        "df.loc[(df['Floor']>6) & (df['Elevator'].isnull()), 'Elevator'] == 'yes'\n",
        "df.loc[(df['Floor']<=6) & (df['Elevator'].isnull()), 'Elevator'] == 'no'\n",
        "\n",
        "f, [ax1, ax2] = plt.subplots(1, 2, figsize=(20,10))\n",
        "sns.countplot(df['Elevator'], ax=ax1)\n",
        "ax1.set_title('Comparison of the number of elevators')\n",
        "ax1.set_xlabel('Is there an elevator')\n",
        "ax1.set_ylabel('numbers')\n",
        "\n",
        "sns.barplot(x='Elevator', y='Price', data=df, ax=ax2)\n",
        "ax2.set_title('Price comparison with or without elevator')\n",
        "ax2.set_xlabel('Is there an elevator')\n",
        "ax2.set_ylabel('price')\n",
        "plt.show()"
      ],
      "execution_count": 1,
      "outputs": [
        {
          "output_type": "error",
          "ename": "NameError",
          "evalue": "ignored",
          "traceback": [
            "\u001b[0;31m---------------------------------------------------------------------------\u001b[0m",
            "\u001b[0;31mNameError\u001b[0m                                 Traceback (most recent call last)",
            "\u001b[0;32m<ipython-input-1-8f683776b84f>\u001b[0m in \u001b[0;36m<module>\u001b[0;34m()\u001b[0m\n\u001b[1;32m      2\u001b[0m \u001b[0;34m\u001b[0m\u001b[0m\n\u001b[1;32m      3\u001b[0m \u001b[0;31m# Elevator 特征分析\u001b[0m\u001b[0;34m\u001b[0m\u001b[0;34m\u001b[0m\u001b[0;34m\u001b[0m\u001b[0m\n\u001b[0;32m----> 4\u001b[0;31m \u001b[0mmiss_value\u001b[0m \u001b[0;34m=\u001b[0m \u001b[0mlen\u001b[0m\u001b[0;34m(\u001b[0m\u001b[0mdf\u001b[0m\u001b[0;34m.\u001b[0m\u001b[0mloc\u001b[0m\u001b[0;34m[\u001b[0m\u001b[0;34m(\u001b[0m\u001b[0mdf\u001b[0m\u001b[0;34m[\u001b[0m\u001b[0;34m'Elevator'\u001b[0m\u001b[0;34m]\u001b[0m\u001b[0;34m.\u001b[0m\u001b[0misnull\u001b[0m\u001b[0;34m(\u001b[0m\u001b[0;34m)\u001b[0m\u001b[0;34m)\u001b[0m\u001b[0;34m,\u001b[0m \u001b[0;34m'Elevator'\u001b[0m\u001b[0;34m]\u001b[0m\u001b[0;34m)\u001b[0m\u001b[0;34m\u001b[0m\u001b[0;34m\u001b[0m\u001b[0m\n\u001b[0m\u001b[1;32m      5\u001b[0m \u001b[0mprint\u001b[0m\u001b[0;34m(\u001b[0m\u001b[0;34m'Elevator缺失值个数为：'\u001b[0m \u001b[0;34m+\u001b[0m \u001b[0mstr\u001b[0m\u001b[0;34m(\u001b[0m\u001b[0mmiss_value\u001b[0m\u001b[0;34m)\u001b[0m\u001b[0;34m)\u001b[0m\u001b[0;34m\u001b[0m\u001b[0;34m\u001b[0m\u001b[0m\n\u001b[1;32m      6\u001b[0m \u001b[0;34m\u001b[0m\u001b[0m\n",
            "\u001b[0;31mNameError\u001b[0m: name 'df' is not defined"
          ]
        }
      ]
    }
  ]
}